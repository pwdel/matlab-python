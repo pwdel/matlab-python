{
 "cells": [
  {
   "cell_type": "code",
   "execution_count": 4,
   "metadata": {},
   "outputs": [
    {
     "ename": "ImportError",
     "evalue": "No module named psycopg2",
     "output_type": "error",
     "traceback": [
      "\u001b[0;31m---------------------------------------------------------------------------\u001b[0m",
      "\u001b[0;31mImportError\u001b[0m                               Traceback (most recent call last)",
      "\u001b[0;32m<ipython-input-4-d675837def34>\u001b[0m in \u001b[0;36m<module>\u001b[0;34m()\u001b[0m\n\u001b[0;32m----> 1\u001b[0;31m \u001b[0;32mimport\u001b[0m \u001b[0mpsycopg2\u001b[0m\u001b[0;34m\u001b[0m\u001b[0m\n\u001b[0m\u001b[1;32m      2\u001b[0m \u001b[0;34m\u001b[0m\u001b[0m\n",
      "\u001b[0;31mImportError\u001b[0m: No module named psycopg2"
     ]
    }
   ],
   "source": [
    "import psycopg2\n",
    "\n"
   ]
  },
  {
   "cell_type": "code",
   "execution_count": 5,
   "metadata": {},
   "outputs": [
    {
     "data": {
      "text/plain": [
       "['',\n",
       " '/Users/Delaney/django',\n",
       " '/Users/Delaney/anaconda2/lib/python2.7/site-packages/s3cmd-1.6.1-py2.7.egg',\n",
       " '/Users/Delaney/anaconda2/lib/python2.7/site-packages/python_magic-0.4.12-py2.7.egg',\n",
       " '/Users/Delaney/anaconda2/lib/python2.7/site-packages/Pygments-2.2.0.dev20170906-py2.7.egg',\n",
       " '/Users/Delaney/anaconda2/lib/python27.zip',\n",
       " '/Users/Delaney/anaconda2/lib/python2.7',\n",
       " '/Users/Delaney/anaconda2/lib/python2.7/plat-darwin',\n",
       " '/Users/Delaney/anaconda2/lib/python2.7/plat-mac',\n",
       " '/Users/Delaney/anaconda2/lib/python2.7/plat-mac/lib-scriptpackages',\n",
       " '/Users/Delaney/anaconda2/lib/python2.7/lib-tk',\n",
       " '/Users/Delaney/anaconda2/lib/python2.7/lib-old',\n",
       " '/Users/Delaney/anaconda2/lib/python2.7/lib-dynload',\n",
       " '/Users/Delaney/anaconda2/lib/python2.7/site-packages',\n",
       " '/Users/Delaney/anaconda2/lib/python2.7/site-packages/Sphinx-1.6.3-py2.7.egg',\n",
       " '/Users/Delaney/anaconda2/lib/python2.7/site-packages/aeosa',\n",
       " '/Users/Delaney/anaconda2/lib/python2.7/site-packages/IPython/extensions',\n",
       " '/Users/Delaney/.ipython']"
      ]
     },
     "execution_count": 5,
     "metadata": {},
     "output_type": "execute_result"
    }
   ],
   "source": [
    "import sys\n",
    "sys.path"
   ]
  },
  {
   "cell_type": "code",
   "execution_count": null,
   "metadata": {
    "collapsed": true
   },
   "outputs": [],
   "source": []
  },
  {
   "cell_type": "code",
   "execution_count": null,
   "metadata": {
    "collapsed": true
   },
   "outputs": [],
   "source": []
  }
 ],
 "metadata": {
  "kernelspec": {
   "display_name": "Python 2",
   "language": "python",
   "name": "python2"
  },
  "language_info": {
   "codemirror_mode": {
    "name": "ipython",
    "version": 2
   },
   "file_extension": ".py",
   "mimetype": "text/x-python",
   "name": "python",
   "nbconvert_exporter": "python",
   "pygments_lexer": "ipython2",
   "version": "2.7.15"
  }
 },
 "nbformat": 4,
 "nbformat_minor": 2
}
