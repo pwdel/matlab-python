{
 "cells": [
  {
   "cell_type": "code",
   "execution_count": 14,
   "metadata": {},
   "outputs": [
    {
     "name": "stdout",
     "output_type": "stream",
     "text": [
      "<type 'int'>\n",
      "<type 'int'>\n",
      "<type 'numpy.float64'>\n"
     ]
    }
   ],
   "source": [
    "import numpy as np\n",
    "X=2\n",
    "\n",
    "# define a function whosMy to print information about all of the variables\n",
    "def whosMy(*args): # take in all arguments\n",
    "    # There are six sequence types: strings, Unicode strings, lists, tuples, buffers, and xrange objects.\n",
    "    # dictionary, list and tuple\n",
    "    # dictionaries have key/value pairs\n",
    "    # lists are mutable tuples\n",
    "    # tuples have a name and then just a list of stuff in them\n",
    "  sequentialTypes = [dict, list, tuple]\n",
    "  for var in args: # for each variable within all arguments\n",
    "    t=type(var) # we get the type of the variable\n",
    "    if t== np.ndarray:  # if the type is an array \n",
    "        # about arrays https://docs.scipy.org/doc/numpy/reference/generated/numpy.ndarray.html\n",
    "      print type(var),var.dtype, var.shape # print out the type, data type (dtype) and shape\n",
    "    elif t in sequentialTypes: # otherwise if it's a dictionary, list or tuple\n",
    "      print type(var), len(var) # print out just the type of the variable and the length of the variable\n",
    "    else:\n",
    "      print type(var) # otherwise just print the type of the variable\n",
    "\n",
    "# Calling this function for X as it stands now, it should just show up as <type 'int'>\n",
    "# this is the default number type within python but not Numpy.\n",
    "whosMy(X)\n",
    "\n",
    "# If we convert X or call other variables of different types, they should print out differently.\n",
    "# The equivalent to a double in Matlab is a float64\n",
    "Xfloat64 = np.float64(X)\n",
    "\n",
    "whosMy(X,Xfloat64)"
   ]
  },
  {
   "cell_type": "code",
   "execution_count": null,
   "metadata": {
    "collapsed": true
   },
   "outputs": [],
   "source": []
  },
  {
   "cell_type": "code",
   "execution_count": 6,
   "metadata": {},
   "outputs": [
    {
     "data": {
      "text/plain": [
       "['In',\n",
       " 'Out',\n",
       " 'X',\n",
       " '_',\n",
       " '__',\n",
       " '___',\n",
       " '__builtin__',\n",
       " '__builtins__',\n",
       " '__doc__',\n",
       " '__name__',\n",
       " '__package__',\n",
       " '_dh',\n",
       " '_i',\n",
       " '_i1',\n",
       " '_i2',\n",
       " '_i3',\n",
       " '_i4',\n",
       " '_i5',\n",
       " '_i6',\n",
       " '_ih',\n",
       " '_ii',\n",
       " '_iii',\n",
       " '_oh',\n",
       " '_sh',\n",
       " 'exit',\n",
       " 'get_ipython',\n",
       " 'np',\n",
       " 'quit']"
      ]
     },
     "execution_count": 6,
     "metadata": {},
     "output_type": "execute_result"
    }
   ],
   "source": [
    "dir()"
   ]
  },
  {
   "cell_type": "code",
   "execution_count": null,
   "metadata": {
    "collapsed": true
   },
   "outputs": [],
   "source": []
  }
 ],
 "metadata": {
  "kernelspec": {
   "display_name": "Python 2",
   "language": "python",
   "name": "python2"
  },
  "language_info": {
   "codemirror_mode": {
    "name": "ipython",
    "version": 2
   },
   "file_extension": ".py",
   "mimetype": "text/x-python",
   "name": "python",
   "nbconvert_exporter": "python",
   "pygments_lexer": "ipython2",
   "version": "2.7.15"
  }
 },
 "nbformat": 4,
 "nbformat_minor": 2
}
